{
 "cells": [
  {
   "cell_type": "markdown",
   "id": "a7f7f8f4-d37f-4886-ad2f-9a1d9661bd1b",
   "metadata": {},
   "source": [
    "# Identifying Conflict Trends in Yemen\n",
    "## By: Veronica Lopez-Romero"
   ]
  },
  {
   "cell_type": "markdown",
   "id": "271a830d-95fd-4bb0-8156-f4ce5ee41f95",
   "metadata": {},
   "source": [
    "## Introduction\n",
    "OpenAI's o1 reasoning model is designed for complex problem-solving, data analysis, and image interpretation by simulating a multi-step thought process before generating responses. Unlike traditional GPT models, which produce output in a single pass, reasoning models use internal **reasoning tokens** to explore multiple approaches before finalizing an answer.\n",
    "<p align=\"center\">\n",
    "    <img src=\"https://cdn.openai.com/API/images/guides/reasoning_tokens.png\" alt=\"Reasoning Tokens\" width=\"600\">\n",
    "</p>  \n",
    "\n",
    "*Source: [OpenAI Reasoning Models Guide](https://platform.openai.com/docs/guides/reasoning)*\n",
    "\n",
    "**Key Differences: o1 Reasoning Model vs. GPT**\n",
    "- Multi-step reasoning: o1 evaluates different solutions before selecting the best response.\n",
    "- Deeper analytical capabilities: Optimized for complex data interpretation tasks.\n",
    "- Context-aware image analysis: Provides more structured and insightful image descriptions.\n",
    "- Reasoning Effort Control: Users can adjust the depth of reasoning (`low`, `medium`, `high`).\n",
    "\n",
    "\n",
    "For more details, refer to the [OpenAI Reasoning Models Guide](https://platform.openai.com/docs/guides/reasoning).\n"
   ]
  },
  {
   "cell_type": "markdown",
   "id": "aaa19529-a6a5-486b-802e-ddfb39fb85f1",
   "metadata": {},
   "source": [
    "## Purchase and Store API Key\n",
    "\n",
    "You need to **purchase** your [OpenAI](https://openai.com/) API key and store it securely, such as in **AWS Secrets Manager**.\n",
    "\n",
    "- **Key Name:** `api_key`  \n",
    "- **Key Value:** `<your OpenAI API key>`  \n",
    "- **Secret Name:** `openai`  "
   ]
  },
  {
   "cell_type": "markdown",
   "id": "5a126d9e-1487-4905-8cc0-5d55d1a06594",
   "metadata": {},
   "source": [
    "## Install Python Libraries\n",
    "\n",
    "- **openai**: Used to call `o1` and `GPT` models for data analysis and image interpretation."
   ]
  },
  {
   "cell_type": "code",
   "execution_count": 1,
   "id": "7f05dcb1-dab0-4a06-bf2b-c695a8d19d6d",
   "metadata": {},
   "outputs": [
    {
     "name": "stdout",
     "output_type": "stream",
     "text": [
      "Note: you may need to restart the kernel to use updated packages.\n"
     ]
    }
   ],
   "source": [
    "pip install openai -q"
   ]
  },
  {
   "cell_type": "markdown",
   "id": "ca255da8-7177-49e6-bff7-27501305b4f6",
   "metadata": {},
   "source": [
    "## Import Required Libraries\n",
    "\n",
    "The following libraries are used in this notebook:\n",
    "\n",
    "- **boto3**: AWS SDK for Python, used to interact with AWS services.\n",
    "- **json**: Standard Python library for handling JSON data.\n",
    "- **IPython.display**: Provides tools to display images, Markdown content, and other rich media in Jupyter Notebook.\n",
    "- **openai**: Used to call `o1` and `GPT` models for data analysis and image interpretation.\n",
    "- **pandas**: A powerful library for data manipulation and analysis.\n",
    "- **pprint**: Pretty prints data structures for better readability."
   ]
  },
  {
   "cell_type": "code",
   "execution_count": 2,
   "id": "5db0d630-749f-484e-8d01-79ec39e0e56e",
   "metadata": {
    "scrolled": true
   },
   "outputs": [],
   "source": [
    "import boto3\n",
    "import json\n",
    "from IPython.display import display, Image, Markdown\n",
    "from openai import OpenAI\n",
    "import pandas as pd\n",
    "from pprint import pprint"
   ]
  },
  {
   "cell_type": "markdown",
   "id": "ddd547f9-8c03-4673-a194-e71e01b38a3d",
   "metadata": {},
   "source": [
    "## Retrieve API Keys Securely from AWS Secrets Manager\n",
    "\n",
    "The following function, `get_secret()`, retrieves a secret from **AWS Secrets Manager**. This is a secure way to store and access sensitive credentials, such as API keys, without hardcoding them into the script"
   ]
  },
  {
   "cell_type": "code",
   "execution_count": 3,
   "id": "7fd3f543-0716-483c-88ce-b41f5fb418cb",
   "metadata": {},
   "outputs": [],
   "source": [
    "def get_secret(secret_name):\n",
    "    region_name = \"us-east-1\"\n",
    "\n",
    "    # Create a Secrets Manager client\n",
    "    session = boto3.session.Session()\n",
    "    client = session.client(\n",
    "        service_name='secretsmanager',\n",
    "        region_name=region_name\n",
    "    )\n",
    "\n",
    "    try:\n",
    "        get_secret_value_response = client.get_secret_value(\n",
    "            SecretId=secret_name\n",
    "        )\n",
    "    except ClientError as e:\n",
    "        raise e\n",
    "\n",
    "    secret = get_secret_value_response['SecretString']\n",
    "    \n",
    "    return json.loads(secret)"
   ]
  },
  {
   "cell_type": "markdown",
   "id": "e5711939-503e-44f6-bb28-0671c1131e26",
   "metadata": {},
   "source": [
    "## Initialize OpenAI Client\n",
    "\n",
    "The following code initializes the OpenAI client using a securely stored API key retrieved from AWS Secrets Manager."
   ]
  },
  {
   "cell_type": "code",
   "execution_count": 4,
   "id": "921be4e1-921f-4c84-b68d-fc72b435cc3a",
   "metadata": {
    "scrolled": true
   },
   "outputs": [],
   "source": [
    "client = OpenAI(api_key= get_secret('openai')['api_key'])"
   ]
  },
  {
   "cell_type": "markdown",
   "id": "860098d7-cfcc-4791-9b42-c526f8ff620a",
   "metadata": {},
   "source": [
    "## Load and Analyze the Yemen Dataset"
   ]
  },
  {
   "cell_type": "code",
   "execution_count": 5,
   "id": "ebef8c09-e485-4bea-b86b-275cce615b63",
   "metadata": {},
   "outputs": [
    {
     "data": {
      "text/html": [
       "<div>\n",
       "<style scoped>\n",
       "    .dataframe tbody tr th:only-of-type {\n",
       "        vertical-align: middle;\n",
       "    }\n",
       "\n",
       "    .dataframe tbody tr th {\n",
       "        vertical-align: top;\n",
       "    }\n",
       "\n",
       "    .dataframe thead th {\n",
       "        text-align: right;\n",
       "    }\n",
       "</style>\n",
       "<table border=\"1\" class=\"dataframe\">\n",
       "  <thead>\n",
       "    <tr style=\"text-align: right;\">\n",
       "      <th></th>\n",
       "      <th>Country</th>\n",
       "      <th>Admin1</th>\n",
       "      <th>Admin2</th>\n",
       "      <th>Admin1 Pcode</th>\n",
       "      <th>Month</th>\n",
       "      <th>Year</th>\n",
       "      <th>Events</th>\n",
       "      <th>Fatalities</th>\n",
       "    </tr>\n",
       "  </thead>\n",
       "  <tbody>\n",
       "    <tr>\n",
       "      <th>0</th>\n",
       "      <td>Yemen</td>\n",
       "      <td>Abyan</td>\n",
       "      <td>Ahwar</td>\n",
       "      <td>YE12</td>\n",
       "      <td>January</td>\n",
       "      <td>2022</td>\n",
       "      <td>2</td>\n",
       "      <td>1</td>\n",
       "    </tr>\n",
       "    <tr>\n",
       "      <th>1</th>\n",
       "      <td>Yemen</td>\n",
       "      <td>Ad Dali</td>\n",
       "      <td>Ad Dhalee</td>\n",
       "      <td>YE30</td>\n",
       "      <td>January</td>\n",
       "      <td>2022</td>\n",
       "      <td>2</td>\n",
       "      <td>3</td>\n",
       "    </tr>\n",
       "    <tr>\n",
       "      <th>2</th>\n",
       "      <td>Yemen</td>\n",
       "      <td>Aden</td>\n",
       "      <td>Khur Maksar</td>\n",
       "      <td>YE24</td>\n",
       "      <td>January</td>\n",
       "      <td>2022</td>\n",
       "      <td>4</td>\n",
       "      <td>2</td>\n",
       "    </tr>\n",
       "    <tr>\n",
       "      <th>3</th>\n",
       "      <td>Yemen</td>\n",
       "      <td>Al Bayda</td>\n",
       "      <td>Az Zahir</td>\n",
       "      <td>YE14</td>\n",
       "      <td>January</td>\n",
       "      <td>2022</td>\n",
       "      <td>1</td>\n",
       "      <td>1</td>\n",
       "    </tr>\n",
       "    <tr>\n",
       "      <th>4</th>\n",
       "      <td>Yemen</td>\n",
       "      <td>Al Bayda</td>\n",
       "      <td>Naman</td>\n",
       "      <td>YE14</td>\n",
       "      <td>January</td>\n",
       "      <td>2022</td>\n",
       "      <td>14</td>\n",
       "      <td>10</td>\n",
       "    </tr>\n",
       "  </tbody>\n",
       "</table>\n",
       "</div>"
      ],
      "text/plain": [
       "  Country    Admin1       Admin2 Admin1 Pcode    Month  Year  Events  \\\n",
       "0   Yemen     Abyan        Ahwar         YE12  January  2022       2   \n",
       "1   Yemen   Ad Dali    Ad Dhalee         YE30  January  2022       2   \n",
       "2   Yemen      Aden  Khur Maksar         YE24  January  2022       4   \n",
       "3   Yemen  Al Bayda     Az Zahir         YE14  January  2022       1   \n",
       "4   Yemen  Al Bayda        Naman         YE14  January  2022      14   \n",
       "\n",
       "   Fatalities  \n",
       "0           1  \n",
       "1           3  \n",
       "2           2  \n",
       "3           1  \n",
       "4          10  "
      ]
     },
     "execution_count": 5,
     "metadata": {},
     "output_type": "execute_result"
    }
   ],
   "source": [
    "df = pd.read_excel('Yemen Data.xlsx')\n",
    "data_json = df.to_json(orient=\"records\")\n",
    "df.head()"
   ]
  },
  {
   "cell_type": "markdown",
   "id": "44df8274-f532-4103-9b8a-a882aa23eb86",
   "metadata": {},
   "source": [
    "## Generate Data Analysis Prompt for OpenAI Model\n",
    "\n",
    "To investigate what **patterns** and **anomalies** are present during 2022-2024, we generate a structured prompt for the OpenAI model. The model will analyze the dataset and generate insights, including **Python code for visualizations**.\n"
   ]
  },
  {
   "cell_type": "code",
   "execution_count": 6,
   "id": "09d7ac96-aef2-425c-91ae-6b004a3ccce3",
   "metadata": {},
   "outputs": [],
   "source": [
    "data_prompt = f\"Based on the provided dataset, what patterns or anomalies do you notice and what might explain any spikes or regional differences? Provide Python-generated charts to support your conclusion. Data: {data_json}\"\n",
    "# print(prompt)"
   ]
  },
  {
   "cell_type": "markdown",
   "id": "0e269bba-2c1a-47e9-9662-3542873fa8ce",
   "metadata": {},
   "source": [
    "## Define a Function to Get Assistance from OpenAI GPT-4o\n",
    "\n",
    "The following function, `openai_gpt_help()`, sends a prompt to OpenAI's **GPT-4o model** and returns a response. It also prints the number of tokens used in the request."
   ]
  },
  {
   "cell_type": "code",
   "execution_count": 7,
   "id": "8a02a837-a5c0-409e-92ce-7ae93e58c834",
   "metadata": {},
   "outputs": [],
   "source": [
    "def openai_gpt_help(prompt):\n",
    "    messages = [{\"role\": \"user\", \"content\": prompt}]\n",
    "    response = client.chat.completions.create(\n",
    "        model='gpt-4o',\n",
    "        messages=messages,\n",
    "        temperature = 0\n",
    "    )\n",
    "    token_usage = response.usage\n",
    "    \n",
    "    pprint(f\"Tokens used: {token_usage}\")\n",
    "\n",
    "    return response.choices[0].message.content"
   ]
  },
  {
   "cell_type": "code",
   "execution_count": 8,
   "id": "df292b10-8857-4902-b2e4-8dab5602d204",
   "metadata": {},
   "outputs": [
    {
     "name": "stdout",
     "output_type": "stream",
     "text": [
      "('Tokens used: CompletionUsage(completion_tokens=835, prompt_tokens=70916, '\n",
      " 'total_tokens=71751, '\n",
      " 'completion_tokens_details=CompletionTokensDetails(accepted_prediction_tokens=0, '\n",
      " 'audio_tokens=0, reasoning_tokens=0, rejected_prediction_tokens=0), '\n",
      " 'prompt_tokens_details=PromptTokensDetails(audio_tokens=0, cached_tokens=0))')\n"
     ]
    }
   ],
   "source": [
    "gpt_result = openai_gpt_help(prompt=data_prompt)"
   ]
  },
  {
   "cell_type": "code",
   "execution_count": 9,
   "id": "1360e35d-3dda-4447-8b5e-f58d16ad91d3",
   "metadata": {},
   "outputs": [
    {
     "data": {
      "text/markdown": [
       "To analyze the dataset and identify patterns or anomalies, we can use Python libraries such as pandas for data manipulation and matplotlib or seaborn for visualization. Let's start by loading the data into a pandas DataFrame and then create some visualizations to explore the data.\n",
       "\n",
       "```python\n",
       "import pandas as pd\n",
       "import matplotlib.pyplot as plt\n",
       "import seaborn as sns\n",
       "\n",
       "# Load the data into a pandas DataFrame\n",
       "data = [\n",
       "    {\"Country\": \"Yemen\", \"Admin1\": \"Abyan\", \"Admin2\": \"Ahwar\", \"Admin1 Pcode\": \"YE12\", \"Month\": \"January\", \"Year\": 2022, \"Events\": 2, \"Fatalities\": 1},\n",
       "    # ... (other data points)\n",
       "    {\"Country\": \"Yemen\", \"Admin1\": \"Lahij\", \"Admin2\": \"Al Qabbaytah\", \"Admin1 Pcode\": \"YE25\", \"Month\": \"December\", \"Year\": 2024, \"Events\": 2, \"Fatalities\": 17}\n",
       "]\n",
       "\n",
       "df = pd.DataFrame(data)\n",
       "\n",
       "# Convert Month to a datetime object for easier plotting\n",
       "df['Date'] = pd.to_datetime(df['Year'].astype(str) + '-' + df['Month'], format='%Y-%B')\n",
       "\n",
       "# Group by Date and sum the Events and Fatalities\n",
       "monthly_data = df.groupby('Date').sum().reset_index()\n",
       "\n",
       "# Plot the number of events over time\n",
       "plt.figure(figsize=(14, 6))\n",
       "sns.lineplot(data=monthly_data, x='Date', y='Events', marker='o')\n",
       "plt.title('Number of Events Over Time')\n",
       "plt.xlabel('Date')\n",
       "plt.ylabel('Number of Events')\n",
       "plt.xticks(rotation=45)\n",
       "plt.grid(True)\n",
       "plt.show()\n",
       "\n",
       "# Plot the number of fatalities over time\n",
       "plt.figure(figsize=(14, 6))\n",
       "sns.lineplot(data=monthly_data, x='Date', y='Fatalities', marker='o', color='red')\n",
       "plt.title('Number of Fatalities Over Time')\n",
       "plt.xlabel('Date')\n",
       "plt.ylabel('Number of Fatalities')\n",
       "plt.xticks(rotation=45)\n",
       "plt.grid(True)\n",
       "plt.show()\n",
       "\n",
       "# Group by Admin1 and sum the Events and Fatalities\n",
       "regional_data = df.groupby('Admin1').sum().reset_index()\n",
       "\n",
       "# Plot the number of events by region\n",
       "plt.figure(figsize=(14, 6))\n",
       "sns.barplot(data=regional_data, x='Admin1', y='Events')\n",
       "plt.title('Number of Events by Region')\n",
       "plt.xlabel('Region')\n",
       "plt.ylabel('Number of Events')\n",
       "plt.xticks(rotation=45)\n",
       "plt.grid(True)\n",
       "plt.show()\n",
       "\n",
       "# Plot the number of fatalities by region\n",
       "plt.figure(figsize=(14, 6))\n",
       "sns.barplot(data=regional_data, x='Admin1', y='Fatalities', color='red')\n",
       "plt.title('Number of Fatalities by Region')\n",
       "plt.xlabel('Region')\n",
       "plt.ylabel('Number of Fatalities')\n",
       "plt.xticks(rotation=45)\n",
       "plt.grid(True)\n",
       "plt.show()\n",
       "```\n",
       "\n",
       "### Observations:\n",
       "\n",
       "1. **Temporal Patterns**:\n",
       "   - The line plots for events and fatalities over time can help identify any spikes or trends. Look for months with unusually high numbers of events or fatalities, which might indicate periods of increased conflict or specific incidents.\n",
       "\n",
       "2. **Regional Differences**:\n",
       "   - The bar plots for events and fatalities by region (Admin1) can highlight which regions are most affected. Regions with consistently high numbers of events or fatalities might be conflict hotspots.\n",
       "\n",
       "3. **Anomalies**:\n",
       "   - Any sudden spikes in events or fatalities could indicate specific incidents or escalations in conflict. These should be investigated further to understand the underlying causes.\n",
       "\n",
       "4. **Potential Explanations**:\n",
       "   - Spikes in events or fatalities could be due to military operations, political events, or other socio-political factors. Regional differences might be explained by the presence of active conflict zones or political tensions.\n",
       "\n",
       "By analyzing these visualizations, you can gain insights into the patterns and anomalies in the dataset, which can help in understanding the conflict dynamics in Yemen."
      ],
      "text/plain": [
       "<IPython.core.display.Markdown object>"
      ]
     },
     "metadata": {},
     "output_type": "display_data"
    }
   ],
   "source": [
    "display(Markdown(gpt_result))"
   ]
  },
  {
   "cell_type": "markdown",
   "id": "c068efcc-c82a-40d8-8d5b-3939f2417a4e",
   "metadata": {},
   "source": [
    "## Define a Function to Get Assistance from OpenAI o1 Model  \n",
    "\n",
    "The following function, `openai_o_help()`, sends a prompt to OpenAI's **o1 reasoning model** and returns a response.  \n",
    "\n",
    "### Key Differences Between o1 and GPT Models:\n",
    "- **Reasoning Effort**: The o1 model allows users to control reasoning depth using `reasoning_effort` (`low`, `medium`, `high`).  \n",
    "- **No Temperature Parameter**: Unlike GPT models, **o1 does not support `temperature`**.  \n",
    "- **Developer Messages Replace System Messages**:  \n",
    "  - Starting with `o1-2024-12-17`, **developer messages** replace **system messages** to align with chain-of-command behavior.  \n",
    "\n",
    "### Best Practices for Prompting o1  \n",
    "- **Keep prompts simple and direct.**  \n",
    "- **Avoid chain-of-thought prompts.** o1 reasons internally, so step-by-step instructions aren't needed.  \n",
    "- **Use delimiters for clarity.** Use Markdown, XML tags, or section titles.  \n",
    "- **Try zero-shot first.** If needed, add few-shot examples that closely match your goal.  \n",
    "- **Be explicit.** Clearly define success criteria and constraints.  \n",
    "- **Markdown is disabled by default.** To enable, start with `\"Formatting re-enabled\"`.  \n",
    "\n",
    "Source: [OpenAI Reasoning Models Best Practices Guide](https://platform.openai.com/docs/guides/reasoning-best-practices).  \n"
   ]
  },
  {
   "cell_type": "code",
   "execution_count": 10,
   "id": "89f3d84b-b101-4299-b01a-ee4285c7608d",
   "metadata": {},
   "outputs": [],
   "source": [
    "def openai_o_help(prompt):\n",
    "    messages = [ {\"role\": \"user\", \"content\": prompt}]\n",
    "    response = client.chat.completions.create(\n",
    "        model='o1',\n",
    "        reasoning_effort=\"high\", # low, medium or high\n",
    "        messages=messages,\n",
    "\n",
    "    )\n",
    "    token_usage = response.usage\n",
    "    \n",
    "    pprint(f\"Tokens used: {token_usage}\")\n",
    "\n",
    "    return response.choices[0].message.content"
   ]
  },
  {
   "cell_type": "code",
   "execution_count": 11,
   "id": "c5fc9ef3-4510-4faf-995f-31a58134b9a5",
   "metadata": {},
   "outputs": [
    {
     "name": "stdout",
     "output_type": "stream",
     "text": [
      "('Tokens used: CompletionUsage(completion_tokens=3265, prompt_tokens=70915, '\n",
      " 'total_tokens=74180, '\n",
      " 'completion_tokens_details=CompletionTokensDetails(accepted_prediction_tokens=0, '\n",
      " 'audio_tokens=0, reasoning_tokens=1984, rejected_prediction_tokens=0), '\n",
      " 'prompt_tokens_details=PromptTokensDetails(audio_tokens=0, cached_tokens=0))')\n"
     ]
    }
   ],
   "source": [
    "o1_result = openai_o_help(prompt=data_prompt)"
   ]
  },
  {
   "cell_type": "code",
   "execution_count": 12,
   "id": "17ab95a7-ee31-49c7-b2ad-f77996be5e44",
   "metadata": {},
   "outputs": [
    {
     "name": "stdout",
     "output_type": "stream",
     "text": [
      "Below is an illustrative example of how one might load this dataset into Python, produce a few summary charts, and interpret the major trends. In short:\n",
      "\n",
      "• Marib (particularly Harib, Al Jubah, Marib City), Shabwah (e.g., Ain, Bayhan, Ataq), and Hajjah (e.g., Haradh, Abs) stand out in early 2022 with large spikes in both the number of conflict events and fatalities.  \n",
      "• These spikes coincide with well‐known front lines of fighting in Yemen where offensives were especially intense.  \n",
      "• Through 2022–2023, many governorates (e.g., Taizz, Al Bayda, Al Jawf) continue to see persistent conflict, creating smaller waves of violence.  \n",
      "• The data suggests conflict often surges where front lines shift or major operations occur—e.g., in Marib and Shabwah during January–February 2022, or in Hajjah (Haradh, Abs) in February 2022.  \n",
      "• Regional differences often reflect changes in allegiances, local ceasefires, or major offensives, causing sudden spikes in events and fatalities in certain months.\n",
      "\n",
      "─────────────────────────────────────────────────────────────────\n",
      "1) LOADING THE DATA INTO A DATAFRAME\n",
      "─────────────────────────────────────────────────────────────────\n",
      "\n",
      "import pandas as pd\n",
      "import matplotlib.pyplot as plt\n",
      "import calendar\n",
      "\n",
      "# Suppose your dataset is stored in a Python list called \"data\" (the same JSON you provided).\n",
      "df = pd.DataFrame(data)\n",
      "\n",
      "# Convert \"Month\" names to month numbers (e.g. January -> 1, February -> 2, etc.)\n",
      "month_map = {m: i for i, m in enumerate(calendar.month_name) if m}\n",
      "df[\"Month_num\"] = df[\"Month\"].map(month_map).fillna(0).astype(int)\n",
      "\n",
      "# Create a single date field, e.g. first day of the month\n",
      "# (This helps with time‐series groupings.)\n",
      "df[\"Date\"] = pd.to_datetime(df[\"Year\"].astype(str) + \"-\" +\n",
      "                            df[\"Month_num\"].astype(str) + \"-01\")\n",
      "\n",
      "─────────────────────────────────────────────────────────────────\n",
      "2) AGGREGATE EVENTS AND FATALITIES BY MONTH\n",
      "─────────────────────────────────────────────────────────────────\n",
      "\n",
      "monthly = df.groupby([\"Date\"], as_index=False).agg({\n",
      "    \"Events\": \"sum\",\n",
      "    \"Fatalities\": \"sum\"\n",
      "}).sort_values(\"Date\")\n",
      "\n",
      "# Example line chart of total events and fatalities per month:\n",
      "fig, ax = plt.subplots(figsize=(10, 6))\n",
      "ax.plot(monthly[\"Date\"], monthly[\"Events\"], label=\"Events\", marker=\"o\")\n",
      "ax.plot(monthly[\"Date\"], monthly[\"Fatalities\"], label=\"Fatalities\", marker=\"o\")\n",
      "ax.set_title(\"Total Conflict Events and Fatalities Over Time\")\n",
      "ax.set_xlabel(\"Month\")\n",
      "ax.set_ylabel(\"Count\")\n",
      "ax.legend()\n",
      "plt.xticks(rotation=45)\n",
      "plt.tight_layout()\n",
      "plt.show()\n",
      "\n",
      "─────────────────────────────────────────────────────────────────\n",
      "3) EXAMINE REGIONAL DIFFERENCES (E.G., TOP 10 DISTRICTS)\n",
      "─────────────────────────────────────────────────────────────────\n",
      " \n",
      "# Group by district (Admin2) to see where losses are highest overall\n",
      "top_districts = (\n",
      "    df.groupby([\"Admin2\"], as_index=False)[\"Fatalities\"].sum()\n",
      "      .sort_values(\"Fatalities\", ascending=False)\n",
      "      .head(10)\n",
      ")\n",
      "\n",
      "fig, ax = plt.subplots(figsize=(8, 6))\n",
      "ax.barh(top_districts[\"Admin2\"], top_districts[\"Fatalities\"], color=\"salmon\")\n",
      "ax.set_title(\"Top 10 Districts by Total Fatalities\")\n",
      "ax.set_xlabel(\"Fatalities\")\n",
      "ax.set_ylabel(\"District\")\n",
      "plt.gca().invert_yaxis()  # So the highest bar is on top\n",
      "plt.tight_layout()\n",
      "plt.show()\n",
      "\n",
      "─────────────────────────────────────────────────────────────────\n",
      "4) KEY OBSERVATIONS\n",
      "─────────────────────────────────────────────────────────────────\n",
      "\n",
      "1. Some of the largest spikes in both Events and Fatalities occur in early 2022, especially in:  \n",
      "   – Marib (notably Harib, Al Jubah, and Marib City),  \n",
      "   – Shabwah (notably Ain, Bayhan, Ataq),  \n",
      "   – Hajjah (notably Haradh and Abs).\n",
      "\n",
      "2. For instance, Harib (Marib) in January 2022 shows extremely high figures (85 events / 217 fatalities). Shabwah’s Ain also sees 52 events / 188 fatalities that same month. Hajjah’s Haradh spikes in February 2022 with 85 events / 358 fatalities.\n",
      "\n",
      "3. These hotspots reflect known front lines in Yemen during that period:  \n",
      "   – Marib offensives and counter‐offensives (late 2021 – early 2022).  \n",
      "   – Shabwah campaigns around Bayhan, Ain, and Ataq.  \n",
      "   – Renewed conflict around Hajjah (Haradh) in early 2022.\n",
      "\n",
      "4. Additional waves: Through late 2022 and 2023, conflict persists in areas like Taizz, Al Bayda, Al Jawf, and pockets of Lahij and Abyan, though monthly totals vary. Sudden jumps often appear where there have been shifting alliances or local ceasefires that subsequently break down.\n",
      "\n",
      "5. Seasonal or operational factors:  \n",
      "   – Certain peaks correlate with major offensives or changes in alliances (e.g., local deals breaking down).  \n",
      "   – Lower but steady numbers appear in historically contested areas (Taizz, Al Hudaydah’s southern districts), reflecting entrenched front lines.\n",
      "\n",
      "6. Overall, the data underscores that conflict in Yemen is highly localized around front lines. Large spikes are usually explained by major offensives (Marib, Shabwah, Hajjah), while smaller but persistent conflict continues in longstanding flashpoints (Taizz, Al Bayda, Al Jawf, etc.).\n",
      "\n",
      "─────────────────────────────────────────────────────────────────\n",
      "\n",
      "By combining the time‐series (monthly) view with a geospatial or administrative aggregation, one sees that major surges occur when fighting intensifies along a particular front line. Regional differences (e.g., big jumps in Hajjah one month, then a lull) often arise when factions shift focus, local truces collapse, or new offensives begin.\n"
     ]
    }
   ],
   "source": [
    "print(o1_result)"
   ]
  },
  {
   "cell_type": "markdown",
   "id": "9d8d5202-bb07-40da-bba6-bd792c5f8438",
   "metadata": {},
   "source": [
    "# Model Evaluation\n",
    "\n",
    "**How the model's reasoning supported my analysis:**\n",
    "\n",
    "The model helped me identify meaningful patterns in the Yemen conflict data by identifying key spikes in violence and connecting them to likely causes, such as front line offensives and regional shifts in control. It also visualized trends over time and by region, which supported my understanding of how conflict intensity changed across months and districts.\n",
    "\n",
    "**Whether this approach could be applied to real-world intelligence workflows:**\n",
    "\n",
    "Yes, I believe this approach could support real-world intelligence work by quickly identifying high-risk areas, explaining anomalies, and tracking the effectiveness of ceasefires or peace efforts. Structured reasoning like this helps analysts connect data trends to on the field events and generate useful hypotheses.\n",
    "\n",
    "**Any limitations or ethical concerns you encountered:**\n",
    "\n",
    "One limitation I faced was that the model couldn't handle large datasets which could cause a margin of error further impacting the analysis. Another limitation is that the model can only analyze the data it's given. It doesn't know the full real-world context, so it's important not to assume its explanations are always accurate."
   ]
  },
  {
   "cell_type": "markdown",
   "id": "f392719c-faa6-4438-a5ea-5e8e6d613d90",
   "metadata": {},
   "source": [
    "## References  \n",
    "- **OpenAI Reasoning Models Guide**: [OpenAI](https://platform.openai.com/docs/guides/reasoning)  \n",
    "- **OpenAI Reasoning Models Best Practices Guide**: [OpenAI](https://platform.openai.com/docs/guides/reasoning-best-practices)  \n",
    "- **Colin Jarvis. “Reasoning with O1.” DeepLearning.AI.** Accessed February 14, 2025. [DeepLearning.AI](https://www.deeplearning.ai/short-courses/reasoning-with-o1/)  "
   ]
  }
 ],
 "metadata": {
  "kernelspec": {
   "display_name": "conda_python3",
   "language": "python",
   "name": "conda_python3"
  },
  "language_info": {
   "codemirror_mode": {
    "name": "ipython",
    "version": 3
   },
   "file_extension": ".py",
   "mimetype": "text/x-python",
   "name": "python",
   "nbconvert_exporter": "python",
   "pygments_lexer": "ipython3",
   "version": "3.10.16"
  }
 },
 "nbformat": 4,
 "nbformat_minor": 5
}
