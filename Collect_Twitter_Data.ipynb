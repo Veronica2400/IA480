{
 "cells": [
  {
   "cell_type": "markdown",
   "id": "57f1eff0-5349-4778-ad29-9cd14cc2a966",
   "metadata": {},
   "source": [
    "# Collect_Twitter_Data"
   ]
  },
  {
   "cell_type": "markdown",
   "id": "6557ec59-d7dd-477c-a329-42655807b081",
   "metadata": {},
   "source": [
    "## Install Python libraries"
   ]
  },
  {
   "cell_type": "markdown",
   "id": "9a59aa4f-fe96-4c36-860b-b6cadb051775",
   "metadata": {},
   "source": [
    "We need the [pymongo](https://pypi.org/project/pymongo/) to manage the MongoDB database, and [tweepy](https://www.tweepy.org/) to call the Twitter APIs."
   ]
  },
  {
   "cell_type": "code",
   "execution_count": 1,
   "id": "80b7a187-9aaa-415d-9b12-af88fc29acbb",
   "metadata": {
    "tags": []
   },
   "outputs": [
    {
     "name": "stdout",
     "output_type": "stream",
     "text": [
      "Collecting pymongo\n",
      "  Downloading pymongo-4.11.3-cp310-cp310-manylinux_2_17_x86_64.manylinux2014_x86_64.whl.metadata (22 kB)\n",
      "Collecting dnspython<3.0.0,>=1.16.0 (from pymongo)\n",
      "  Downloading dnspython-2.7.0-py3-none-any.whl.metadata (5.8 kB)\n",
      "Downloading pymongo-4.11.3-cp310-cp310-manylinux_2_17_x86_64.manylinux2014_x86_64.whl (1.2 MB)\n",
      "\u001b[2K   \u001b[90m━━━━━━━━━━━━━━━━━━━━━━━━━━━━━━━━━━━━━━━━\u001b[0m \u001b[32m1.2/1.2 MB\u001b[0m \u001b[31m75.0 MB/s\u001b[0m eta \u001b[36m0:00:00\u001b[0m\n",
      "\u001b[?25hDownloading dnspython-2.7.0-py3-none-any.whl (313 kB)\n",
      "Installing collected packages: dnspython, pymongo\n",
      "Successfully installed dnspython-2.7.0 pymongo-4.11.3\n",
      "Note: you may need to restart the kernel to use updated packages.\n"
     ]
    }
   ],
   "source": [
    "pip install pymongo"
   ]
  },
  {
   "cell_type": "code",
   "execution_count": 2,
   "id": "3f526554-c100-4747-8b25-148a2602353e",
   "metadata": {
    "tags": []
   },
   "outputs": [
    {
     "name": "stdout",
     "output_type": "stream",
     "text": [
      "Collecting tweepy\n",
      "  Downloading tweepy-4.15.0-py3-none-any.whl.metadata (4.1 kB)\n",
      "Collecting oauthlib<4,>=3.2.0 (from tweepy)\n",
      "  Downloading oauthlib-3.2.2-py3-none-any.whl.metadata (7.5 kB)\n",
      "Requirement already satisfied: requests<3,>=2.27.0 in /home/ec2-user/anaconda3/envs/python3/lib/python3.10/site-packages (from tweepy) (2.32.3)\n",
      "Collecting requests-oauthlib<3,>=1.2.0 (from tweepy)\n",
      "  Downloading requests_oauthlib-2.0.0-py2.py3-none-any.whl.metadata (11 kB)\n",
      "Requirement already satisfied: charset_normalizer<4,>=2 in /home/ec2-user/anaconda3/envs/python3/lib/python3.10/site-packages (from requests<3,>=2.27.0->tweepy) (3.4.1)\n",
      "Requirement already satisfied: idna<4,>=2.5 in /home/ec2-user/anaconda3/envs/python3/lib/python3.10/site-packages (from requests<3,>=2.27.0->tweepy) (3.10)\n",
      "Requirement already satisfied: urllib3<3,>=1.21.1 in /home/ec2-user/anaconda3/envs/python3/lib/python3.10/site-packages (from requests<3,>=2.27.0->tweepy) (2.3.0)\n",
      "Requirement already satisfied: certifi>=2017.4.17 in /home/ec2-user/anaconda3/envs/python3/lib/python3.10/site-packages (from requests<3,>=2.27.0->tweepy) (2025.1.31)\n",
      "Downloading tweepy-4.15.0-py3-none-any.whl (99 kB)\n",
      "Downloading oauthlib-3.2.2-py3-none-any.whl (151 kB)\n",
      "Downloading requests_oauthlib-2.0.0-py2.py3-none-any.whl (24 kB)\n",
      "Installing collected packages: oauthlib, requests-oauthlib, tweepy\n",
      "Successfully installed oauthlib-3.2.2 requests-oauthlib-2.0.0 tweepy-4.15.0\n",
      "Note: you may need to restart the kernel to use updated packages.\n"
     ]
    }
   ],
   "source": [
    "pip install tweepy"
   ]
  },
  {
   "cell_type": "markdown",
   "id": "b53da235-9df8-4ac0-b5a8-4952c5460a66",
   "metadata": {},
   "source": [
    "## Secret Manager Function"
   ]
  },
  {
   "cell_type": "code",
   "execution_count": 3,
   "id": "c1ec8411-fe46-4795-a493-6b1a55294954",
   "metadata": {
    "tags": []
   },
   "outputs": [],
   "source": [
    "import boto3\n",
    "from botocore.exceptions import ClientError\n",
    "import json\n",
    "\n",
    "def get_secret(secret_name):\n",
    "    region_name = \"us-east-1\"\n",
    "\n",
    "    # Create a Secrets Manager client\n",
    "    session = boto3.session.Session()\n",
    "    client = session.client(\n",
    "        service_name='secretsmanager',\n",
    "        region_name=region_name\n",
    "    )\n",
    "\n",
    "    try:\n",
    "        get_secret_value_response = client.get_secret_value(\n",
    "            SecretId=secret_name\n",
    "        )\n",
    "    except ClientError as e:\n",
    "        raise e\n",
    "\n",
    "    secret = get_secret_value_response['SecretString']\n",
    "    \n",
    "    return json.loads(secret)"
   ]
  },
  {
   "cell_type": "markdown",
   "id": "42f3dc4a-fbd3-4089-99d6-19e19112fc74",
   "metadata": {
    "tags": []
   },
   "source": [
    "## Import Python Libraries and Credentials  "
   ]
  },
  {
   "cell_type": "code",
   "execution_count": 4,
   "id": "d9693a5a-f992-45a0-9961-0f7b1e7d2f55",
   "metadata": {
    "tags": []
   },
   "outputs": [],
   "source": [
    "import pymongo\n",
    "from pymongo import MongoClient\n",
    "import json\n",
    "import tweepy\n",
    "\n",
    "bearer_token   = get_secret('twitter_api')['bearer_token']\n",
    "\n",
    "mongodb_connect = get_secret('mongodb')['connection_string']"
   ]
  },
  {
   "cell_type": "markdown",
   "id": "483a6608-4d5a-4743-8b59-3e5dc3392053",
   "metadata": {},
   "source": [
    "## Connect to the MongoDB cluster"
   ]
  },
  {
   "cell_type": "markdown",
   "id": "cec329ed-eb8c-43fd-b648-e16ffb671625",
   "metadata": {},
   "source": [
    "We will create a database named 'demo' and a collection named 'tweet_collection' in your MongoDB database."
   ]
  },
  {
   "cell_type": "code",
   "execution_count": 5,
   "id": "4dc19bad-51d9-4f00-b1cc-3c7ee1ec4c43",
   "metadata": {
    "tags": []
   },
   "outputs": [
    {
     "data": {
      "text/plain": [
       "'tweet.id_1'"
      ]
     },
     "execution_count": 5,
     "metadata": {},
     "output_type": "execute_result"
    }
   ],
   "source": [
    "mongo_client = MongoClient(mongodb_connect)\n",
    "db = mongo_client.demo # use or create a database named demo\n",
    "tweet_collection = db.tweet_collection #use or create a collection named tweet_collection\n",
    "tweet_collection.create_index([(\"tweet.id\", pymongo.ASCENDING)],unique = True) # make sure the collected tweets are unique"
   ]
  },
  {
   "cell_type": "markdown",
   "id": "6ae1cf9f-0ef0-495b-b1fd-d3f7ad205feb",
   "metadata": {},
   "source": [
    "## Use the API to collect tweets"
   ]
  },
  {
   "cell_type": "markdown",
   "id": "929f1c79-ddc1-429a-ac39-da29961cc74c",
   "metadata": {},
   "source": [
    "For more about Twitter API 2.0 query operators, please check [Search Tweets](https://developer.twitter.com/en/docs/twitter-api/tweets/search/integrate/build-a-query)"
   ]
  },
  {
   "cell_type": "code",
   "execution_count": 6,
   "id": "e124c5a1-495a-43ad-81a6-4d0c063f13f6",
   "metadata": {
    "tags": []
   },
   "outputs": [],
   "source": [
    "query = 'cyber threats'  #query tweets contain the word of 'generative ai'"
   ]
  },
  {
   "cell_type": "markdown",
   "id": "ae9141e7-af4d-4bc6-bcc2-710fa2e8a569",
   "metadata": {},
   "source": [
    "Insert the collected Tweets into the MongoDB database. You can set a different max_result, but the max tweets we can collect is 100."
   ]
  },
  {
   "cell_type": "code",
   "execution_count": 7,
   "id": "0c658c37-2112-4ff4-9ba2-4b7cb83c44fb",
   "metadata": {
    "tags": []
   },
   "outputs": [
    {
     "name": "stdout",
     "output_type": "stream",
     "text": [
      "2025-03-31T18:55:28.000Z\n",
      "2025-03-31T18:55:01.000Z\n",
      "2025-03-31T18:53:54.000Z\n",
      "2025-03-31T18:53:20.000Z\n",
      "2025-03-31T18:52:43.000Z\n",
      "2025-03-31T18:51:48.000Z\n",
      "2025-03-31T18:49:23.000Z\n",
      "2025-03-31T18:49:16.000Z\n",
      "2025-03-31T18:47:37.000Z\n",
      "2025-03-31T18:46:37.000Z\n",
      "2025-03-31T18:43:17.000Z\n",
      "2025-03-31T18:41:27.000Z\n",
      "2025-03-31T18:39:02.000Z\n",
      "2025-03-31T18:38:45.000Z\n",
      "2025-03-31T18:37:42.000Z\n",
      "2025-03-31T18:37:28.000Z\n",
      "2025-03-31T18:36:51.000Z\n",
      "2025-03-31T18:35:49.000Z\n",
      "2025-03-31T18:31:26.000Z\n",
      "2025-03-31T18:31:19.000Z\n",
      "2025-03-31T18:31:03.000Z\n",
      "2025-03-31T18:30:41.000Z\n",
      "2025-03-31T18:30:15.000Z\n",
      "2025-03-31T18:30:07.000Z\n",
      "2025-03-31T18:30:00.000Z\n",
      "2025-03-31T18:29:32.000Z\n",
      "2025-03-31T18:28:43.000Z\n",
      "2025-03-31T18:27:54.000Z\n",
      "2025-03-31T18:26:56.000Z\n",
      "2025-03-31T18:22:21.000Z\n",
      "2025-03-31T18:21:58.000Z\n",
      "2025-03-31T18:21:16.000Z\n",
      "2025-03-31T18:19:43.000Z\n",
      "2025-03-31T18:18:39.000Z\n",
      "2025-03-31T18:12:08.000Z\n",
      "2025-03-31T18:12:03.000Z\n",
      "2025-03-31T18:03:39.000Z\n",
      "2025-03-31T18:01:38.000Z\n",
      "2025-03-31T18:01:22.000Z\n",
      "2025-03-31T18:00:00.000Z\n",
      "2025-03-31T17:59:54.000Z\n",
      "2025-03-31T17:55:42.000Z\n",
      "2025-03-31T17:55:33.000Z\n",
      "2025-03-31T17:54:20.000Z\n",
      "2025-03-31T17:52:58.000Z\n",
      "2025-03-31T17:52:19.000Z\n",
      "2025-03-31T17:51:56.000Z\n",
      "2025-03-31T17:40:24.000Z\n",
      "2025-03-31T17:40:05.000Z\n",
      "2025-03-31T17:39:45.000Z\n",
      "2025-03-31T17:38:31.000Z\n",
      "2025-03-31T17:36:32.000Z\n",
      "2025-03-31T17:36:07.000Z\n",
      "2025-03-31T17:33:33.000Z\n",
      "2025-03-31T17:31:07.000Z\n",
      "2025-03-31T17:30:06.000Z\n",
      "2025-03-31T17:26:29.000Z\n",
      "2025-03-31T17:24:41.000Z\n",
      "2025-03-31T17:24:07.000Z\n",
      "2025-03-31T17:22:54.000Z\n",
      "2025-03-31T17:18:59.000Z\n",
      "2025-03-31T17:17:51.000Z\n",
      "2025-03-31T17:13:42.000Z\n",
      "2025-03-31T17:12:31.000Z\n",
      "2025-03-31T17:11:00.000Z\n",
      "2025-03-31T17:08:43.000Z\n",
      "2025-03-31T17:08:04.000Z\n",
      "2025-03-31T17:05:12.000Z\n",
      "2025-03-31T17:05:06.000Z\n",
      "2025-03-31T17:04:50.000Z\n",
      "2025-03-31T17:04:32.000Z\n",
      "2025-03-31T17:03:36.000Z\n",
      "2025-03-31T17:03:26.000Z\n",
      "2025-03-31T17:00:01.000Z\n",
      "2025-03-31T17:00:00.000Z\n",
      "2025-03-31T17:00:00.000Z\n",
      "2025-03-31T16:58:27.000Z\n",
      "2025-03-31T16:58:09.000Z\n",
      "2025-03-31T16:56:04.000Z\n",
      "2025-03-31T16:54:04.000Z\n",
      "2025-03-31T16:53:34.000Z\n",
      "2025-03-31T16:52:14.000Z\n",
      "2025-03-31T16:43:23.000Z\n",
      "2025-03-31T16:42:28.000Z\n",
      "2025-03-31T16:38:09.000Z\n",
      "2025-03-31T16:36:54.000Z\n",
      "2025-03-31T16:35:19.000Z\n",
      "2025-03-31T16:35:01.000Z\n",
      "2025-03-31T16:32:28.000Z\n",
      "2025-03-31T16:30:06.000Z\n",
      "2025-03-31T16:30:00.000Z\n",
      "2025-03-31T16:28:33.000Z\n",
      "2025-03-31T16:28:32.000Z\n"
     ]
    }
   ],
   "source": [
    "tweet_client = tweepy.Client(bearer_token)\n",
    "\n",
    "tweets = tweet_client.search_recent_tweets(query=query, max_results=100,\n",
    "                                    expansions=['author_id'], \n",
    "                                    tweet_fields = ['created_at','entities','lang','public_metrics','geo'],\n",
    "                                    user_fields = ['id', 'location','name', 'public_metrics','username'])\n",
    "\n",
    "next_token = tweets.meta['next_token']\n",
    "for user, tweet in zip(tweets.includes['users'],tweets.data):\n",
    "    tweet_json = {}\n",
    "    tweet_json['tweet']= tweet.data\n",
    "    tweet_json['user'] = user.data\n",
    "    try:\n",
    "        tweet_collection.insert_one(tweet_json)\n",
    "        print(tweet_json['tweet']['created_at'])\n",
    "    except:\n",
    "        pass"
   ]
  },
  {
   "cell_type": "markdown",
   "id": "6ebcde75-fded-4a1b-865a-4774b723dd31",
   "metadata": {},
   "source": [
    "Continue fetching early tweets with the same query. YOU WILL REACH YOUR RATE LIMIT VERY FAST!"
   ]
  },
  {
   "cell_type": "code",
   "execution_count": null,
   "id": "f48e6f2a-e171-46a0-b4b2-8ef3ca7f6c1a",
   "metadata": {
    "tags": []
   },
   "outputs": [],
   "source": [
    "for i in range(5): # change the number here to fetch more tweets\n",
    "    tweets = tweet_client.search_recent_tweets(query=query, max_results=100,\n",
    "                                        expansions=['author_id'], \n",
    "                                        tweet_fields = ['created_at','entities','lang','public_metrics','geo'],\n",
    "                                        user_fields = ['id', 'location','name', 'public_metrics','username'],\n",
    "                                        next_token=next_token)\n",
    "    next_token = tweets.meta['next_token']\n",
    "    for user, tweet in zip(tweets.includes['users'],tweets.data):\n",
    "        tweet_json = {}\n",
    "        tweet_json['tweet']= tweet.data\n",
    "        tweet_json['user'] = user.data\n",
    "        try:\n",
    "            tweet_collection.insert_one(tweet_json)\n",
    "            print(tweet_json['tweet']['created_at'])\n",
    "        except:\n",
    "            pass"
   ]
  },
  {
   "cell_type": "markdown",
   "id": "e6367268-1426-477a-b89a-54886f3f46b6",
   "metadata": {},
   "source": [
    "## Close Database Connection"
   ]
  },
  {
   "cell_type": "code",
   "execution_count": null,
   "id": "5b174ef4-e75a-4540-ba96-0dd92e8e5b33",
   "metadata": {
    "tags": []
   },
   "outputs": [],
   "source": [
    "mongo_client.close()"
   ]
  },
  {
   "cell_type": "code",
   "execution_count": null,
   "id": "093683c5-fe55-49bb-b19a-f6084179927d",
   "metadata": {},
   "outputs": [],
   "source": []
  }
 ],
 "metadata": {
  "kernelspec": {
   "display_name": "conda_python3",
   "language": "python",
   "name": "conda_python3"
  },
  "language_info": {
   "codemirror_mode": {
    "name": "ipython",
    "version": 3
   },
   "file_extension": ".py",
   "mimetype": "text/x-python",
   "name": "python",
   "nbconvert_exporter": "python",
   "pygments_lexer": "ipython3",
   "version": "3.10.16"
  }
 },
 "nbformat": 4,
 "nbformat_minor": 5
}
