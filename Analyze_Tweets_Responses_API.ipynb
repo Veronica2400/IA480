{
 "cells": [
  {
   "cell_type": "markdown",
   "id": "86832346-9e59-4811-83ff-04e2e007e515",
   "metadata": {},
   "source": [
    "# OpenAI Responses API: Advanced Tweet Analysis with File & Web Search Integration"
   ]
  },
  {
   "cell_type": "markdown",
   "id": "55ea36b9-4484-4e95-a023-41e475f1af58",
   "metadata": {},
   "source": [
    "## What is the OpenAI Responses API?\n",
    "\n",
    "The Responses API is a new API released in March 2025. It is a combination of the traditional \n",
    "Chat Completions API and the Assistants API, providing support for:\n",
    "\n",
    "- **Traditional Chat Completions:** Facilitates seamless conversational AI experiences.\n",
    "- **Web Search:** Enables real-time information retrieval from the internet.\n",
    "- **File Search:** Allows searching within files for relevant data.\n",
    "\n",
    "Accordingly, the Assistants API will be retired in 2026. \n",
    "\n",
    "> **For new users, OpenAI recommends using the Responses API instead of the Chat Completions API to leverage its expanded capabilities.**\n",
    "\n",
    "For a comprehensive comparison between the Responses API and the Chat Completions API, refer to the official OpenAI documentation: \n",
    "[Responses vs. Chat Completions](https://platform.openai.com/docs/guides/responses-vs-chat-completions)."
   ]
  },
  {
   "cell_type": "markdown",
   "id": "cf3ae0b6-d8f5-4547-be96-bafdf768853c",
   "metadata": {},
   "source": [
    "## Summary of This Notebook\n",
    "This notebook provides a hands-on guide for using the **OpenAI Responses API** to analyze tweets. \n",
    "It covers essential techniques such as:\n",
    "\n",
    "- **Connecting to a MongoDB database** to store and retrieve tweets.\n",
    "- **Extracting tweets** and converting them into a structured format for further analysis.\n",
    "- **Creating a vector store** and uploading tweets for semantic search.\n",
    "- **Using file search** to analyze private datasets.\n",
    "- **Performing web search** to retrieve the latest public information.\n",
    "- **Utilizing stateful responses** to maintain conversation context.\n",
    "- **Combining file and web search** to enhance retrieval-augmented generation (RAG) applications.\n",
    "\n",
    "By the end of this notebook, users will be able to integrate OpenAI's Responses API for efficient data retrieval \n",
    "and analysis of structured and unstructured data."
   ]
  },
  {
   "cell_type": "markdown",
   "id": "adbe454d-ac76-413a-b17c-f79c4873e9df",
   "metadata": {},
   "source": [
    "## Install Required Libraries\n",
    "To use the OpenAI Responses API and interact with a MongoDB database, we need to install the following libraries:\n",
    "\n",
    "- **`openai`**: Provides access to OpenAI's APIs, including the Responses API\n",
    "- **`pymongo`**: A Python driver for MongoDB to store and retrieve tweets."
   ]
  },
  {
   "cell_type": "code",
   "execution_count": 1,
   "id": "6346923a-a409-4621-a6fc-d0f72dccde48",
   "metadata": {},
   "outputs": [
    {
     "name": "stdout",
     "output_type": "stream",
     "text": [
      "Note: you may need to restart the kernel to use updated packages.\n"
     ]
    }
   ],
   "source": [
    "pip install openai pymongo -q"
   ]
  },
  {
   "cell_type": "markdown",
   "id": "b9706b93-af03-4f7a-89bd-6649b11ba83c",
   "metadata": {},
   "source": [
    "## Import Required Libraries"
   ]
  },
  {
   "cell_type": "code",
   "execution_count": 2,
   "id": "9a4f25ea-3dc7-4955-8589-0527ce749a30",
   "metadata": {},
   "outputs": [],
   "source": [
    "from IPython.display import Markdown, display\n",
    "import boto3\n",
    "from botocore.exceptions import ClientError\n",
    "import json\n",
    "import io"
   ]
  },
  {
   "cell_type": "markdown",
   "id": "818d0310-abab-49d2-9d7e-69c92112efd5",
   "metadata": {},
   "source": [
    "## Retrieve Secrets from AWS Secrets Manager"
   ]
  },
  {
   "cell_type": "code",
   "execution_count": 3,
   "id": "28c8e717-0cbb-4125-8a3e-9ea5f1c92180",
   "metadata": {
    "tags": []
   },
   "outputs": [],
   "source": [
    "def get_secret(secret_name):\n",
    "    region_name = \"us-east-1\"\n",
    "\n",
    "    # Create a Secrets Manager client\n",
    "    session = boto3.session.Session()\n",
    "    client = session.client(\n",
    "        service_name='secretsmanager',\n",
    "        region_name=region_name\n",
    "    )\n",
    "\n",
    "    try:\n",
    "        get_secret_value_response = client.get_secret_value(\n",
    "            SecretId=secret_name\n",
    "        )\n",
    "    except ClientError as e:\n",
    "        raise e\n",
    "\n",
    "    secret = get_secret_value_response['SecretString']\n",
    "    \n",
    "    return json.loads(secret)"
   ]
  },
  {
   "cell_type": "markdown",
   "id": "22aeb735-4c86-41fd-8ce7-893c07fad822",
   "metadata": {},
   "source": [
    "## Connect to MongoDB"
   ]
  },
  {
   "cell_type": "code",
   "execution_count": 4,
   "id": "05ac135f-43ea-4499-9aac-224324b9e727",
   "metadata": {
    "tags": []
   },
   "outputs": [],
   "source": [
    "import pymongo\n",
    "from pymongo import MongoClient\n",
    "mongodb_connect = get_secret('mongodb')['connection_string']\n",
    "\n",
    "mongo_client = MongoClient(mongodb_connect)\n",
    "db = mongo_client.demo # use or create a database named demo\n",
    "tweet_collection = db.tweet_collection #use or create a collection named tweet_collection\n",
    "# tweet_collection.create_index([(\"tweet.id\", pymongo.ASCENDING)],unique = True) # make sure the collected tweets are unique"
   ]
  },
  {
   "cell_type": "markdown",
   "id": "c0d9ccee-380a-4484-89e0-c00f8a9db9f7",
   "metadata": {},
   "source": [
    "## Extract Tweets from MongoDB"
   ]
  },
  {
   "cell_type": "code",
   "execution_count": 5,
   "id": "eeb2d39e-603b-4d41-9a23-b4db8dcdad2f",
   "metadata": {
    "tags": []
   },
   "outputs": [],
   "source": [
    "filter={\n",
    "\n",
    "    \n",
    "}\n",
    "project={\n",
    "    'tweet.text': 1,\n",
    "    '_id':0\n",
    "}\n",
    "#rename the client to mongo_client\n",
    "result = mongo_client['demo']['tweet_collection'].find(\n",
    "  filter=filter,\n",
    "  projection=project\n",
    ")"
   ]
  },
  {
   "cell_type": "markdown",
   "id": "c830cf03-025c-4b78-93d8-e57c4890f20d",
   "metadata": {},
   "source": [
    "After retrieving tweets from MongoDB, we convert the query result into a list format for easier processing.\n",
    "The data is then serialized into a JSON-formatted string, ensuring it can be properly stored and shared across different services.\n",
    "Using `io.BytesIO`, we create an in-memory JSON file, eliminating the need for disk writes.\n",
    "This approach is particularly useful for applications that require temporary file storage, such as uploading datasets\n",
    "to OpenAI's file search API or cloud storage for further analysis."
   ]
  },
  {
   "cell_type": "code",
   "execution_count": 6,
   "id": "f7f458f7-2bd9-43f7-9e51-12547473a2ff",
   "metadata": {},
   "outputs": [],
   "source": [
    "result_list = list(result)\n",
    "\n",
    "# Convert result list to JSON string\n",
    "json_data = json.dumps(result_list, default=str, indent=4)\n",
    "\n",
    "# Create an in-memory JSON file\n",
    "json_bytes = io.BytesIO(json_data.encode(\"utf-8\"))\n",
    "json_bytes.name = \"tweet.json\" "
   ]
  },
  {
   "cell_type": "code",
   "execution_count": 7,
   "id": "c7a0713c-4ebb-4cc0-b3e5-e307f9b40a94",
   "metadata": {
    "tags": []
   },
   "outputs": [
    {
     "name": "stdout",
     "output_type": "stream",
     "text": [
      "Number of tweets:  187\n"
     ]
    }
   ],
   "source": [
    "print('Number of tweets: ',len(result_list))"
   ]
  },
  {
   "cell_type": "markdown",
   "id": "69bbd9ff-e0bc-4ec0-9fbc-b2f931defe4e",
   "metadata": {},
   "source": [
    "## Initialize OpenAI Client"
   ]
  },
  {
   "cell_type": "code",
   "execution_count": 8,
   "id": "0ec97cf0-736c-439e-81e4-0d22a7b527bd",
   "metadata": {},
   "outputs": [],
   "source": [
    "from openai import OpenAI\n",
    "openai_api_key  = get_secret('openai')['api_key']\n",
    "\n",
    "client = OpenAI(api_key=openai_api_key)"
   ]
  },
  {
   "cell_type": "markdown",
   "id": "7ef03684-10fa-433c-a9ff-5f322fd215c3",
   "metadata": {},
   "source": [
    "## File Search API\n",
    "\n",
    "### Introduction to File Search\n",
    "File search API enables efficient retrieval of relevant information \n",
    "from uploaded files by leveraging vector-based indexing. This feature is particularly useful \n",
    "for searching large datasets, extracting insights, and improving retrieval-augmented generation (RAG) applications.\n",
    "\n",
    "Unlike traditional keyword-based searches, the Responses API uses embeddings \n",
    "to identify semantically relevant content, making it ideal for analyzing structured \n",
    "and unstructured text data (OpenAI, 2025).\n",
    "\n",
    "For more details, visit the official OpenAI documentation: \n",
    "[File Search in Responses API](https://platform.openai.com/docs/guides/tools-file-search)."
   ]
  },
  {
   "cell_type": "markdown",
   "id": "12034ce9-04cc-4f03-8573-9328f05c3735",
   "metadata": {},
   "source": [
    "### Create a Vector Store"
   ]
  },
  {
   "cell_type": "code",
   "execution_count": 9,
   "id": "a2e24f19-be80-429e-8a9a-ece1da9a4ef9",
   "metadata": {},
   "outputs": [],
   "source": [
    "vector_store = client.vector_stores.create(\n",
    "    name=\"tweet_base\"\n",
    ")\n",
    "vector_store_id = vector_store.id\n",
    "# print(vector_store_id)"
   ]
  },
  {
   "cell_type": "markdown",
   "id": "1e80e5ee-4317-4317-8e46-493c3f5d2e95",
   "metadata": {},
   "source": [
    "### Upload Tweets File"
   ]
  },
  {
   "cell_type": "code",
   "execution_count": 10,
   "id": "596ecef7-0b1a-4cbe-8e47-f7e13d6d6150",
   "metadata": {},
   "outputs": [],
   "source": [
    "file = client.files.create(\n",
    "            file=json_bytes,\n",
    "            purpose=\"assistants\",)\n",
    "\n",
    "file_id = file.id\n",
    "# print(file_id)"
   ]
  },
  {
   "cell_type": "markdown",
   "id": "b0a4c9ed-7b16-4178-914e-a4436b6d2971",
   "metadata": {},
   "source": [
    "### Attach File to Vector Store"
   ]
  },
  {
   "cell_type": "code",
   "execution_count": 11,
   "id": "15874314-ed04-4315-85cc-e9ce4eee9d73",
   "metadata": {},
   "outputs": [],
   "source": [
    "attach_status =client.vector_stores.files.create(\n",
    "    vector_store_id=vector_store_id,\n",
    "    file_id=file_id\n",
    "            )\n",
    "\n",
    "# print(attach_status.id)"
   ]
  },
  {
   "cell_type": "markdown",
   "id": "091a9cf3-a802-41a1-9707-e04ee1bdfd8f",
   "metadata": {},
   "source": [
    "### Query the Vector Store"
   ]
  },
  {
   "cell_type": "code",
   "execution_count": 12,
   "id": "cf3753c0-b763-403d-be6a-368d80f6714a",
   "metadata": {},
   "outputs": [],
   "source": [
    "query = \"current cyber threats\""
   ]
  },
  {
   "cell_type": "code",
   "execution_count": 13,
   "id": "c757b4d8-d603-4b01-a610-978b9cfa5010",
   "metadata": {},
   "outputs": [
    {
     "name": "stdout",
     "output_type": "stream",
     "text": [
      "{\n",
      "        \"tweet\": {\n",
      "            \"text\": \"RT @Arcteraio: Is Your Data Truly Protected? \\ud83d\\udd12\\\n",
      " Relevant score: 0.6960252957328726\n",
      "{\n",
      "        \"tweet\": {\n",
      "            \"text\": \"Cyber threats are constant, but so is our commitment to pr\n",
      " Relevant score: 0.6352605431429063\n",
      "Yes! \\ud83d\\udd12\\n\\nWith quantum computing on the horizon, traditional encrypt\\u2026\"\n",
      "        }\n",
      "   \n",
      " Relevant score: 0.6256805606161229\n",
      "including groups linked to state-sponsored\"\n",
      "        }\n",
      "    },\n",
      "    {\n",
      "        \"tweet\": {\n",
      "            \"t\n",
      " Relevant score: 0.6256509189654528\n",
      "\\n\\nhttps://t.co/krKYfaomlN https://t.co/1E6uxXUMw6\"\n",
      "        }\n",
      "    },\n",
      "    {\n",
      "        \"tweet\": {\n",
      "     \n",
      " Relevant score: 0.6148298490216632\n"
     ]
    }
   ],
   "source": [
    "search_results = client.vector_stores.search(\n",
    "    vector_store_id=vector_store_id,\n",
    "    query=query\n",
    ")\n",
    "\n",
    "for result in search_results.data[:5]:\n",
    "    print(result.content[0].text[:100] + '\\n Relevant score: ' + str(result.score))"
   ]
  },
  {
   "cell_type": "markdown",
   "id": "77d89abc-a919-4563-9f06-8dfc9410a4ab",
   "metadata": {},
   "source": [
    "## OpenAI Response API"
   ]
  },
  {
   "cell_type": "markdown",
   "id": "6ee1ecaa-6836-41d5-847e-853b62bcdd0b",
   "metadata": {},
   "source": [
    "### Simple Response"
   ]
  },
  {
   "cell_type": "code",
   "execution_count": 14,
   "id": "7e96e622-9b8c-47d5-9a4a-3c3e6315b2b2",
   "metadata": {},
   "outputs": [],
   "source": [
    "simple_response = client.responses.create(\n",
    "  model=\"gpt-4o\",\n",
    "  input=[\n",
    "      {\n",
    "          \"role\": \"user\",\n",
    "          \"content\": query\n",
    "      }\n",
    "  ]\n",
    ")"
   ]
  },
  {
   "cell_type": "code",
   "execution_count": 15,
   "id": "c1c7e17d-a20d-40e2-b1bc-ee30f9199627",
   "metadata": {},
   "outputs": [
    {
     "data": {
      "text/markdown": [
       "As of the latest information, several prominent cyber threats are affecting individuals and organizations worldwide:\n",
       "\n",
       "1. **Ransomware**: This remains a significant threat, with attackers encrypting data and demanding payment for its release. High-profile attacks target critical infrastructure and large enterprises.\n",
       "\n",
       "2. **Phishing and Spear Phishing**: Cybercriminals are using increasingly sophisticated tactics to trick individuals into revealing sensitive information via deceptive emails, messages, or websites.\n",
       "\n",
       "3. **Malware**: This includes various malicious software types, such as viruses, worms, and trojans, used to damage or infiltrate systems.\n",
       "\n",
       "4. **Credential Stuffing**: Attackers use automated tools to try a large number of username-password combinations to gain unauthorized access to accounts.\n",
       "\n",
       "5. **Business Email Compromise (BEC)**: Scammers impersonate company executives or trusted contacts to trick employees into transferring funds or sharing sensitive information.\n",
       "\n",
       "6. **Distributed Denial-of-Service (DDoS) Attacks**: Attackers flood a network with traffic to disrupt service, often demanding ransom to cease the attack.\n",
       "\n",
       "7. **Zero-Day Exploits**: These are attacks on software vulnerabilities before developers can issue a patch or fix, targeting both well-known and emerging software.\n",
       "\n",
       "8. **IoT Vulnerabilities**: With the rise of the Internet of Things, weak security in connected devices can be exploited to gain network access.\n",
       "\n",
       "9. **Insider Threats**: Employees or contractors with access to sensitive information may intentionally or unintentionally compromise security.\n",
       "\n",
       "10. **Deepfakes and Synthetic Media**: These technologies are used for misinformation, impersonation, and fraud, making detection challenging.\n",
       "\n",
       "11. **Supply Chain Attacks**: Cybercriminals target less secure elements of the supply chain to infiltrate larger organizations.\n",
       "\n",
       "Staying informed about these threats and implementing strong cybersecurity measures is essential to mitigate risk."
      ],
      "text/plain": [
       "<IPython.core.display.Markdown object>"
      ]
     },
     "metadata": {},
     "output_type": "display_data"
    }
   ],
   "source": [
    "display(Markdown(simple_response.output_text))"
   ]
  },
  {
   "cell_type": "markdown",
   "id": "7b468693-2250-4b09-994e-2eb52b1d5741",
   "metadata": {},
   "source": [
    "### File Search Response"
   ]
  },
  {
   "cell_type": "code",
   "execution_count": 16,
   "id": "b4061d68-56f6-4dfc-974c-b2446ad79ecf",
   "metadata": {},
   "outputs": [],
   "source": [
    "\n",
    "file_search_response = client.responses.create(\n",
    "    input= query,\n",
    "    model=\"gpt-4o\",\n",
    "    temperature = 0,\n",
    "    tools=[{\n",
    "        \"type\": \"file_search\",\n",
    "        \"vector_store_ids\": [vector_store_id],\n",
    "    }]\n",
    ")"
   ]
  },
  {
   "cell_type": "code",
   "execution_count": 17,
   "id": "5d448b96-b931-4af8-bd71-1f8facd44ffa",
   "metadata": {},
   "outputs": [
    {
     "data": {
      "text/markdown": [
       "Current cyber threats include:\n",
       "\n",
       "1. **Ransomware Attacks**: These are increasingly targeting various sectors, including architecture and corporate environments.\n",
       "\n",
       "2. **Phishing and Social Engineering**: These tactics are used to deceive individuals into revealing sensitive information.\n",
       "\n",
       "3. **State-Sponsored Attacks**: Groups linked to state actors, such as those from China, are targeting critical infrastructure.\n",
       "\n",
       "4. **AI-Driven Threats**: AI is being used both to enhance cybersecurity and to develop more sophisticated cyber threats.\n",
       "\n",
       "5. **Financial Crime in Virtual Assets**: The digital asset ecosystem is a new battlefield for cyber threats.\n",
       "\n",
       "6. **Critical Infrastructure Vulnerabilities**: Cyber threats to transportation infrastructure could impact military mobilization.\n",
       "\n",
       "7. **Quantum Computing Risks**: Emerging technologies like quantum computing pose new challenges to traditional encryption methods.\n",
       "\n",
       "These threats highlight the need for robust cybersecurity measures and continuous adaptation to evolving risks."
      ],
      "text/plain": [
       "<IPython.core.display.Markdown object>"
      ]
     },
     "metadata": {},
     "output_type": "display_data"
    }
   ],
   "source": [
    "display(Markdown(file_search_response.output_text))\n"
   ]
  },
  {
   "cell_type": "markdown",
   "id": "7ddd7ddc-64d0-49dc-a0f7-c24a4a1b8c31",
   "metadata": {},
   "source": [
    "## Web Search API\n",
    "\n",
    "### Introduction to Web Search\n",
    "The OpenAI Web Search tool allows models to retrieve real-time information from the internet. \n",
    "This capability is particularly useful for obtaining up-to-date data, fact-checking, and expanding knowledge \n",
    "without relying solely on pre-trained information. \n",
    "\n",
    "By leveraging OpenAI's web search functionality, the Responses API can fetch external data \n",
    "and provide accurate, relevant results in real time (OpenAI, 2025). \n",
    "This feature enhances applications that require the latest insights, such as news aggregation, research, \n",
    "or dynamic content generation.\n",
    "\n",
    "For more details, visit the official OpenAI documentation: \n",
    "[Web Search in Responses API](https://platform.openai.com/docs/guides/tools-web-search)."
   ]
  },
  {
   "cell_type": "markdown",
   "id": "38f2bc7e-9a56-4695-8148-915d875ad716",
   "metadata": {},
   "source": [
    "### Perform Web Search"
   ]
  },
  {
   "cell_type": "code",
   "execution_count": 18,
   "id": "455aae40-d752-4e05-b8b6-da213e9b1f65",
   "metadata": {},
   "outputs": [],
   "source": [
    "web_search_response = client.responses.create(\n",
    "    model=\"gpt-4o\",  # or another supported model\n",
    "    input= query,\n",
    "    tools=[\n",
    "        {\n",
    "            \"type\": \"web_search\"\n",
    "        }\n",
    "    ]\n",
    ")"
   ]
  },
  {
   "cell_type": "code",
   "execution_count": 19,
   "id": "e1f5d2c4-f2fb-4261-bc7e-f5b5924f9959",
   "metadata": {},
   "outputs": [
    {
     "data": {
      "text/markdown": [
       "As of April 2025, the cyber threat landscape is increasingly complex, with several prominent threats affecting various sectors:\n",
       "\n",
       "**1. State-Sponsored Cyberattacks:**\n",
       "Geopolitical tensions have led to a surge in cyberwarfare activities. Notably, in 2024, Russian-linked hackers targeted rural Texas water plants, highlighting vulnerabilities in critical infrastructure. These attacks often serve as tests or warnings rather than causing immediate harm. Additionally, countries like China and Iran have been implicated in digital espionage campaigns aimed at stealing sensitive data and planting malware for potential future conflicts. ([apnews.com](https://apnews.com/article/9eceaf30ddc984ed482f067db5dee405?utm_source=openai))\n",
       "\n",
       "**2. AI-Driven Cybercrime:**\n",
       "Criminal networks are increasingly leveraging artificial intelligence to enhance the speed, reach, and sophistication of their operations. This includes creating advanced malware, generating deceptive synthetic media, and conducting targeted cyberattacks on governments and critical infrastructure. Europol has raised concerns about these AI-driven attacks, emphasizing the need for robust regulations and international cooperation to mitigate these evolving threats. ([ft.com](https://www.ft.com/content/755593c8-8614-4953-a4b2-09a0d2794684?utm_source=openai))\n",
       "\n",
       "**3. Ransomware Attacks:**\n",
       "Ransomware remains a significant threat, with attacks becoming more frequent and sophisticated. The Royal ransomware group, active since 2022, is known for aggressive targeting, high ransom demands, and double extortion tactics. They have impacted various sectors, including healthcare, finance, and critical infrastructure, with ransom demands ranging from $250,000 to over $2 million. ([en.wikipedia.org](https://en.wikipedia.org/wiki/Royal_%28cyber_gang%29?utm_source=openai))\n",
       "\n",
       "**4. Supply Chain Attacks:**\n",
       "Cybercriminals are increasingly targeting supply chains to infiltrate organizations. In October 2024, attackers published over 287 malicious packages on the Node Package Manager (NPM) platform, using typosquatting techniques to trick developers into downloading compromised code. Such attacks can have widespread implications, affecting numerous organizations and their customers. ([en.wikipedia.org](https://en.wikipedia.org/wiki/Supply_chain_attack?utm_source=openai))\n",
       "\n",
       "**5. Exploitation of Zero-Day Vulnerabilities:**\n",
       "There has been a notable increase in the exploitation of zero-day vulnerabilities. In 2023, 97 unique zero-day vulnerabilities were exploited in the wild, a 56% increase from the previous year. Chinese cyber espionage groups were particularly active in leveraging these vulnerabilities, underscoring the growing threat from state-sponsored actors. ([la-cyber.com](https://www.la-cyber.com/Current-Threat-Data.php?id=2890&utm_source=openai))\n",
       "\n",
       "**6. Insider Threats:**\n",
       "Insider threats continue to pose significant risks, with employees or contractors intentionally or unintentionally compromising security. Regular training sessions on secure practices and implementing role-based access controls are essential measures to mitigate these risks. ([markets.businessinsider.com](https://markets.businessinsider.com/news/stocks/the-top-five-cyber-threats-impacting-every-industry-and-how-to-avoid-them-1033445156?utm_source=openai))\n",
       "\n",
       "**7. Cloud Security Vulnerabilities:**\n",
       "As organizations increasingly adopt cloud services, vulnerabilities in cloud security have become more prominent. Ensuring proper configuration, regular audits, and adherence to best practices are crucial to safeguarding data in the cloud. ([markets.businessinsider.com](https://markets.businessinsider.com/news/stocks/the-top-five-cyber-threats-impacting-every-industry-and-how-to-avoid-them-1033445156?utm_source=openai))\n",
       "\n",
       "To effectively combat these threats, organizations should adopt a multi-faceted approach, including regular system updates, employee training, robust access controls, and collaboration with cybersecurity experts to stay ahead of emerging risks.\n",
       "\n",
       "\n",
       "## Recent Developments in Cybersecurity:\n",
       "- [Countries shore up their digital defenses as global tensions raise the threat of cyberwarfare](https://apnews.com/article/9eceaf30ddc984ed482f067db5dee405?utm_source=openai)\n",
       "- [Criminals use AI in 'proxy' attacks for hostile powers, warns Europol](https://www.ft.com/content/755593c8-8614-4953-a4b2-09a0d2794684?utm_source=openai)\n",
       "- [🤝 Adversaries team up](https://www.axios.com/newsletters/axios-codebook-21f72b20-f17c-11ef-aa27-e35ae5e39239?utm_source=openai) "
      ],
      "text/plain": [
       "<IPython.core.display.Markdown object>"
      ]
     },
     "metadata": {},
     "output_type": "display_data"
    }
   ],
   "source": [
    "display(Markdown(web_search_response.output_text))"
   ]
  },
  {
   "cell_type": "markdown",
   "id": "a85df607-d638-4d58-99a8-99a6cfe2d7e8",
   "metadata": {},
   "source": [
    "### Stateful Response\n",
    "\n",
    "The OpenAI Responses API includes a stateful feature that enables continuity in interactions. \n",
    "By using the `response_id`, a conversation can persist across multiple queries, \n",
    "allowing users to refine or expand upon previous searches. This is particularly useful for iterative research, \n",
    "dynamic content generation, and applications that require follow-up queries based on prior responses."
   ]
  },
  {
   "cell_type": "code",
   "execution_count": 20,
   "id": "8b3e83a4-3437-4e9f-9732-748a35ccd43f",
   "metadata": {},
   "outputs": [
    {
     "data": {
      "text/markdown": [
       "As of April 2025, the cyber threat landscape is increasingly complex, with several prominent threats"
      ],
      "text/plain": [
       "<IPython.core.display.Markdown object>"
      ]
     },
     "metadata": {},
     "output_type": "display_data"
    }
   ],
   "source": [
    "fetched_response = client.responses.retrieve(response_id=web_search_response.id)\n",
    "display(Markdown(fetched_response.output_text[:100]))"
   ]
  },
  {
   "cell_type": "markdown",
   "id": "bb2ca4d4-b2f7-4cd2-94b6-a0d2aec179cb",
   "metadata": {},
   "source": [
    "### Continue Query with Web Search"
   ]
  },
  {
   "cell_type": "code",
   "execution_count": 21,
   "id": "b348e31e-3aea-4656-b86e-b0f62ef9c697",
   "metadata": {},
   "outputs": [],
   "source": [
    "continue_query = 'find different news'\n",
    "\n",
    "continue_search_response = client.responses.create(\n",
    "    model=\"gpt-4o\",  # or another supported model\n",
    "    input= continue_query,\n",
    "    previous_response_id=web_search_response.id,\n",
    "    tools=[\n",
    "        {\n",
    "            \"type\": \"web_search\"\n",
    "        }\n",
    "    ]\n",
    ")"
   ]
  },
  {
   "cell_type": "code",
   "execution_count": 22,
   "id": "e3ecd050-c5e3-44ca-869b-657e90aca446",
   "metadata": {},
   "outputs": [
    {
     "data": {
      "text/markdown": [
       "As of April 2025, the cyber threat landscape continues to evolve, presenting new challenges across various sectors. Here are some of the latest developments:\n",
       "\n",
       "**1. AI-Driven Organized Crime:**\n",
       "Europol has raised alarms about organized crime groups leveraging artificial intelligence to enhance their operations. These groups use AI to craft multilingual messages, create realistic impersonations, and automate processes, complicating detection efforts. Notably, AI is being utilized to generate child sexual abuse material, and there are concerns about the potential emergence of fully autonomous AI-controlled criminal networks. ([reuters.com](https://www.reuters.com/world/europe/europol-warns-ai-driven-crime-threats-2025-03-18/?utm_source=openai))\n",
       "\n",
       "**2. Deepfake Scams and Social Engineering:**\n",
       "The advancement of deepfake technology has led to more sophisticated social engineering attacks. Cybercriminals are creating convincing videos and audio recordings to impersonate company executives or trusted contacts, deceiving employees into transferring funds or sharing confidential information. These scams exploit trust within organizations, making them particularly effective. ([boardoftrade.com](https://www.boardoftrade.com/news/article/the-top-5-emerging-cybersecurity-threats-how-to-prepare-your-business-in-2025?utm_source=openai))\n",
       "\n",
       "**3. Supply Chain Vulnerabilities:**\n",
       "Cybercriminals are increasingly targeting supply chains by infiltrating third-party vendors or service providers. By exploiting the weakest link in the supply chain, attackers can distribute malware through legitimate software updates or services, affecting numerous organizations and their customers. This tactic underscores the importance of comprehensive vendor security assessments. ([boardoftrade.com](https://www.boardoftrade.com/news/article/the-top-5-emerging-cybersecurity-threats-how-to-prepare-your-business-in-2025?utm_source=openai))\n",
       "\n",
       "**4. Quantum Computing Risks:**\n",
       "The advent of quantum computing poses a looming threat to traditional encryption methods. Quantum computers have the potential to break encryption standards currently considered secure, necessitating a transition to quantum-resistant cryptography to safeguard sensitive data. ([securityboulevard.com](https://securityboulevard.com/2025/01/key-cyber-threats-to-watch-in-2025/?utm_source=openai))\n",
       "\n",
       "**5. Insider Threats:**\n",
       "Insider threats continue to be a significant concern, with employees or contractors intentionally or unintentionally compromising security. Implementing identity and access management (IAM) and privileged access management (PAM) systems can help mitigate these risks by controlling and monitoring access to critical information. ([appliedtech.us](https://www.appliedtech.us/resource-hub/top-cyber-threats-to-prepare-for-in-2025/?utm_source=openai))\n",
       "\n",
       "**6. Cloud Environment Vulnerabilities:**\n",
       "As organizations increasingly rely on cloud computing, vulnerabilities in cloud environments have become more prominent. Attackers exploit misconfigured or outdated cloud setups to exfiltrate sensitive information. Adopting dedicated cloud security solutions, including identity and access management (IAM) and advanced encryption technologies, is crucial to protect against these threats. ([securityboulevard.com](https://securityboulevard.com/2025/01/key-cyber-threats-to-watch-in-2025/?utm_source=openai))\n",
       "\n",
       "**7. Geopolitical Cyber Threats:**\n",
       "Geopolitical tensions have led to an increase in state-sponsored cyberattacks targeting critical infrastructure. For instance, during the 2025 Asian Winter Games in Harbin, China accused the U.S. of cyberattacks on the event's information systems and other critical infrastructure within Heilongjiang province. ([en.wikipedia.org](https://en.wikipedia.org/wiki/Cyberattacks_by_country?utm_source=openai))\n",
       "\n",
       "To effectively combat these evolving threats, organizations should adopt a multi-faceted approach, including regular system updates, employee training, robust access controls, and collaboration with cybersecurity experts to stay ahead of emerging risks.\n",
       "\n",
       "\n",
       "## Recent Developments in Cybersecurity:\n",
       "- [AI is turbocharging organized crime, EU police agency warns](https://apnews.com/article/846847536f6feb2bbb423943fd96e1f1?utm_source=openai)\n",
       "- [Europol warns of AI-driven crime threats](https://www.reuters.com/world/europe/europol-warns-ai-driven-crime-threats-2025-03-18/?utm_source=openai)\n",
       "- [Criminals use AI in 'proxy' attacks for hostile powers, warns Europol](https://www.ft.com/content/755593c8-8614-4953-a4b2-09a0d2794684?utm_source=openai) "
      ],
      "text/plain": [
       "<IPython.core.display.Markdown object>"
      ]
     },
     "metadata": {},
     "output_type": "display_data"
    }
   ],
   "source": [
    "display(Markdown(continue_search_response.output_text))"
   ]
  },
  {
   "cell_type": "markdown",
   "id": "132125be-48d9-4596-9dc5-bc12dca5fdbf",
   "metadata": {},
   "source": [
    "### Combining File Search and Web Search\n",
    "\n",
    "This is an example of using file search to analyze private data and web search to retrieve public or the latest data. \n",
    "The Responses API allows developers to integrate these tools to enhance retrieval-augmented generation (RAG) applications. \n",
    "By combining file search with web search, users can leverage structured internal knowledge while also retrieving real-time \n",
    "information from external sources, ensuring comprehensive and up-to-date responses. "
   ]
  },
  {
   "cell_type": "code",
   "execution_count": 23,
   "id": "6344e43c-8aa4-4693-aaf6-20f09f416364",
   "metadata": {},
   "outputs": [],
   "source": [
    "combined_search_response = client.responses.create(\n",
    "    model=\"gpt-4o\",  # or another supported model\n",
    "    input= query,\n",
    "    temperature = 0,\n",
    "    instructions=\"Retrieve the results from the file search first, and use the web search tool to expand the results with news resources\",\n",
    "    tools=[{\n",
    "        \"type\": \"file_search\",\n",
    "        \"vector_store_ids\": [vector_store_id],\n",
    "    },\n",
    "        {\n",
    "            \"type\": \"web_search\"\n",
    "        }\n",
    "    ]\n",
    ")"
   ]
  },
  {
   "cell_type": "code",
   "execution_count": 24,
   "id": "a09ee0a6-3b50-43a3-a63b-3c765da85561",
   "metadata": {},
   "outputs": [
    {
     "data": {
      "text/markdown": [
       "Current cyber threats include a variety of sophisticated attacks and vulnerabilities. Some of the key threats are:\n",
       "\n",
       "1. **Ransomware Attacks**: These attacks continue to be a significant threat, targeting various sectors including architecture and corporate environments.\n",
       "\n",
       "2. **Phishing and Social Engineering**: Phishing remains a prevalent method for attackers to gain access to sensitive information. For example, Russia-linked groups have used phishing to target Ukraine.\n",
       "\n",
       "3. **State-Sponsored Attacks**: There are ongoing threats from state-sponsored groups, such as those linked to China, targeting critical infrastructure like transportation.\n",
       "\n",
       "4. **AI-Driven Threats**: Artificial Intelligence is being used both defensively and offensively, with AI-powered attacks becoming more common.\n",
       "\n",
       "5. **Financial Crime in Virtual Assets**: The rise of digital currencies has led to new forms of financial crime, requiring updated strategies to combat these threats.\n",
       "\n",
       "6. **Critical Infrastructure Vulnerabilities**: Cyber threats to infrastructure such as rail, ports, and airports pose risks to national security.\n",
       "\n",
       "These threats highlight the need for robust cybersecurity measures, including AI-driven solutions, regular data backups, and comprehensive security strategies."
      ],
      "text/plain": [
       "<IPython.core.display.Markdown object>"
      ]
     },
     "metadata": {},
     "output_type": "display_data"
    }
   ],
   "source": [
    "display(Markdown(combined_search_response.output_text))"
   ]
  },
  {
   "cell_type": "code",
   "execution_count": null,
   "id": "2c7e552a-315a-44e2-bdcb-945a9d2a108e",
   "metadata": {},
   "outputs": [],
   "source": []
  }
 ],
 "metadata": {
  "kernelspec": {
   "display_name": "conda_python3",
   "language": "python",
   "name": "conda_python3"
  },
  "language_info": {
   "codemirror_mode": {
    "name": "ipython",
    "version": 3
   },
   "file_extension": ".py",
   "mimetype": "text/x-python",
   "name": "python",
   "nbconvert_exporter": "python",
   "pygments_lexer": "ipython3",
   "version": "3.10.16"
  }
 },
 "nbformat": 4,
 "nbformat_minor": 5
}
